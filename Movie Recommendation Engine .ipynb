{
 "cells": [
  {
   "cell_type": "markdown",
   "metadata": {},
   "source": [
    "<img style=\"margin-left:200px; width:50%\" src=\"nlp.png\"/>"
   ]
  },
  {
   "cell_type": "markdown",
   "metadata": {},
   "source": [
    " <h1 style=\"size:bold; text-align:center; color:#ffc93c; font-size:2.8rem;\"> Movie Recommendation System using Natural Language Processing</h1>"
   ]
  },
  {
   "cell_type": "markdown",
   "metadata": {},
   "source": [
    "<h3 style=\" text-align:center; color:#4a47a3 \">Don't know what to watch next ? Don't worry. This algorithm will suggest some movies that you might like !</h3>"
   ]
  },
  {
   "cell_type": "markdown",
   "metadata": {},
   "source": [
    " "
   ]
  },
  {
   "cell_type": "markdown",
   "metadata": {},
   "source": [
    "<p>If you aren't a programmer feel free to skip the part below !</p>"
   ]
  },
  {
   "cell_type": "markdown",
   "metadata": {},
   "source": [
    "## Source Code"
   ]
  },
  {
   "cell_type": "markdown",
   "metadata": {},
   "source": [
    "def start():\n",
    "    \n",
    "   <h5> Importing required libraries and reading the dataset. </h5>\n",
    "    \n",
    "    import pandas as pd\n",
    "    import numpy as np\n",
    "    from sklearn.metrics.pairwise import cosine_similarity\n",
    "    from sklearn.feature_extraction.text import CountVectorizer\n",
    "    from pickle import load,dump\n",
    "    df = pd.read_csv('Datasets/movies_data.csv')\n",
    "    \n",
    "   <h5> Function to create a string of important features for each movie.</h5>\n",
    "\n",
    "    def get_imp_features(data) :\n",
    "        important_features = []\n",
    "        for i in range(0,data.shape[0]): \n",
    "            important_features.append(data['Title'][i]+' '+data['Certificate'][i]+' '+data['Genre'][i]+' '+data['Director'][i]+' '+data['Star1'][i]+' '+data['Star2'][i])\n",
    "\n",
    "        return important_features\n",
    "\n",
    "   <h5> Getting the title from the user.</h5>\n",
    "\n",
    "    title = input('Enter the most recent movie you watched: ')\n",
    "\n",
    "   <h5> Function to find a similar title to the one user has entered.</h5>\n",
    "\n",
    "    def alt_title(df,title):\n",
    "        \n",
    "        cm1 = CountVectorizer().fit_transform([title]+list(df['Title']))\n",
    "        cs1 = cosine_similarity(cm1)\n",
    "        scores = list(enumerate(cs1[0]))\n",
    "        sorted_scores = sorted(scores,key = lambda x : x[1], reverse = True)\n",
    "        sorted_scores = sorted_scores[1:]\n",
    "        t = df['Title'][sorted_scores[0][0]-1]\n",
    "        return t\n",
    "\n",
    "   <h5> Vectorizing all the important features and creating a cosine-similarity matrix.</h5>\n",
    "   \n",
    "    df['imp_features'] = get_imp_features(df)\n",
    "    cm = CountVectorizer().fit_transform(list(df['imp_features']))\n",
    "    cs = cosine_similarity(cm)\n",
    "\n",
    "   <h5> Findig the movie id of the title the user entered.</h5>\n",
    "   \n",
    "    f= 0\n",
    "    try:\n",
    "        mov_id = df[df.Title == title]['movie_id'].values[0]\n",
    "    except:\n",
    "        f=1\n",
    "        title = alt_title(df,title)\n",
    "        mov_id = df[df.Title == title]['movie_id'].values[0]\n",
    "\n",
    "<h5> Creating a list, where each element is a tuple having the index and similarity score as its elements, and sorting it.</h5>\n",
    "   \n",
    "    scores = list(enumerate(cs[mov_id]))\n",
    "    sorted_scores = sorted(scores,key = lambda x : x[1], reverse = True)\n",
    "     if f == 0:\n",
    "        sorted_scores = sorted_scores[1:]\n",
    "\n",
    "\n",
    "   <h5> Printing the the most recommended movies.</h5>\n",
    "\n",
    "    m = 0\n",
    "    print('The 7 most recommended movies to the user are: \\n')\n",
    "    for item in sorted_scores:\n",
    "        movie_title = df[df.movie_id == item[0]]['Title'].values[0]\n",
    "        print(m+1,movie_title)\n",
    "        m += 1\n",
    "        if m > 6:\n",
    "            break\n",
    "    if f == 1:\n",
    "        print('\\n Note: Due to insufficient data, these results might not be 100% accurate.')\n"
   ]
  },
  {
   "cell_type": "markdown",
   "metadata": {},
   "source": [
    " \n",
    " \n",
    " \n",
    " "
   ]
  },
  {
   "cell_type": "markdown",
   "metadata": {},
   "source": [
    "<h1 style='text-align:center;color:#28df99;'> Start Here </h1>"
   ]
  },
  {
   "cell_type": "markdown",
   "metadata": {},
   "source": [
    "### Run the cell below by pressing Shift + Enter."
   ]
  },
  {
   "cell_type": "code",
   "execution_count": null,
   "metadata": {
    "scrolled": true
   },
   "outputs": [],
   "source": [
    "from start import main\n",
    "main()"
   ]
  },
  {
   "cell_type": "markdown",
   "metadata": {},
   "source": [
    "<h4 style=\" text-align:center;color:#ff414d;\">Created by Mohnish</h4>\n",
    "\n",
    "<h4 style=\" text-align:center;\"><a href='https://mohnish.netlify.app/'>Website</a></h4>"
   ]
  }
 ],
 "metadata": {
  "kernelspec": {
   "display_name": "Python 3",
   "language": "python",
   "name": "python3"
  },
  "language_info": {
   "codemirror_mode": {
    "name": "ipython",
    "version": 3
   },
   "file_extension": ".py",
   "mimetype": "text/x-python",
   "name": "python",
   "nbconvert_exporter": "python",
   "pygments_lexer": "ipython3",
   "version": "3.7.6"
  }
 },
 "nbformat": 4,
 "nbformat_minor": 4
}
